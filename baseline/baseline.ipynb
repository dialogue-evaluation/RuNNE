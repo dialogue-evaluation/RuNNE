{
 "cells": [
  {
   "cell_type": "code",
   "execution_count": 1,
   "id": "3db86ddd",
   "metadata": {},
   "outputs": [],
   "source": [
    "import pytorch_lightning as pl\n",
    "import torch\n",
    "import json\n",
    "from torch.utils.data import DataLoader\n",
    "from pytorch_lightning import Trainer\n",
    "\n",
    "from transformers import BertForTokenClassification, AdamW, get_linear_schedule_with_warmup, logging\n",
    "from tokenizers import BertWordPieceTokenizer\n",
    "from pytorch_lightning.callbacks.model_checkpoint import ModelCheckpoint\n",
    "\n",
    "# from flat_dataset import FlatNERELDataset, collate_to_max_length\n",
    "from baseline import BaselineRuBERT\n",
    "from iobes_flat_dataset import IOBESFlatRuNNEDataset, collate_to_max_length\n",
    "from score import Evaluator"
   ]
  },
  {
   "cell_type": "code",
   "execution_count": 2,
   "id": "fc36fd9a",
   "metadata": {},
   "outputs": [],
   "source": [
    "VOCAB_PATH = \"./vocab.txt\"\n",
    "NERS_PATH = \"./eval/ref/ners.txt\"\n",
    "IN_PATH = \"./eval\"\n",
    "OUT_PATH = \"./eval\"\n",
    "\n",
    "TRAIN_PATH = \"../data/train\"\n",
    "DEV_PATH = \"../data/dev\"\n",
    "# TEST_PATH = \"./data/test\"\n",
    "\n",
    "TRAIN_IDS_PATH = \"../public_data/train.jsonl\"\n",
    "DEV_IDS_PATH = \"../public_data/dev.jsonl\"\n",
    "# TEST_IDS_PATH = \"./data/test.jsonl\"\n",
    "\n",
    "CKPT_PATH = \"./checkpoints\"\n",
    "\n",
    "MAX_LEN = 128\n",
    "BATCH_SIZE = 1\n",
    "NUM_WORKERS = 8\n",
    "MAX_EPOCHS = 1\n",
    "LR = 1e-4\n",
    "WEIGHT_DECAY = 0.02"
   ]
  },
  {
   "cell_type": "code",
   "execution_count": 3,
   "id": "925d4fa4",
   "metadata": {},
   "outputs": [],
   "source": [
    "logging.set_verbosity_error()"
   ]
  },
  {
   "cell_type": "code",
   "execution_count": 4,
   "id": "9237f6c0",
   "metadata": {},
   "outputs": [],
   "source": [
    "bertwptokenizer = BertWordPieceTokenizer(VOCAB_PATH, lowercase=False)"
   ]
  },
  {
   "cell_type": "code",
   "execution_count": 5,
   "id": "9f77cc5b",
   "metadata": {},
   "outputs": [
    {
     "name": "stdout",
     "output_type": "stream",
     "text": [
      "Loading train:\n"
     ]
    },
    {
     "data": {
      "application/vnd.jupyter.widget-view+json": {
       "model_id": "fcfc1b70e17345538aca834b60b18cd7",
       "version_major": 2,
       "version_minor": 0
      },
      "text/plain": [
       "  0%|          | 0/922 [00:00<?, ?it/s]"
      ]
     },
     "metadata": {},
     "output_type": "display_data"
    }
   ],
   "source": [
    "train_dataset = IOBESFlatRuNNEDataset( dataset_name = \"train\",\n",
    "                                       dataset_path = TRAIN_PATH, \n",
    "                                       ners_path = NERS_PATH, \n",
    "                                       format_path = TRAIN_IDS_PATH,\n",
    "                                       in_path = IN_PATH,\n",
    "                                       tokenizer = bertwptokenizer, \n",
    "                                       max_length = MAX_LEN )\n",
    "train_dataloader = DataLoader(\n",
    "    dataset = train_dataset,\n",
    "    batch_size = BATCH_SIZE,\n",
    "    shuffle = True,\n",
    "    num_workers = NUM_WORKERS,\n",
    "    collate_fn = collate_to_max_length\n",
    ")"
   ]
  },
  {
   "cell_type": "code",
   "execution_count": 6,
   "id": "2bde1f08",
   "metadata": {},
   "outputs": [
    {
     "name": "stdout",
     "output_type": "stream",
     "text": [
      "Loading dev:\n"
     ]
    },
    {
     "data": {
      "application/vnd.jupyter.widget-view+json": {
       "model_id": "51a63dab34a048d7a49687e40b8f4ed2",
       "version_major": 2,
       "version_minor": 0
      },
      "text/plain": [
       "  0%|          | 0/323 [00:00<?, ?it/s]"
      ]
     },
     "metadata": {},
     "output_type": "display_data"
    }
   ],
   "source": [
    "dev_dataset   = IOBESFlatRuNNEDataset( dataset_name = \"dev\",\n",
    "                                       dataset_path = DEV_PATH,   \n",
    "                                       ners_path = NERS_PATH, \n",
    "                                       format_path = DEV_IDS_PATH,\n",
    "                                       in_path = IN_PATH,\n",
    "                                       tokenizer = bertwptokenizer, \n",
    "                                       max_length = MAX_LEN )\n",
    "dev_dataloader = DataLoader(\n",
    "    dataset = dev_dataset,\n",
    "    batch_size = BATCH_SIZE,\n",
    "    shuffle = False,\n",
    "    num_workers = NUM_WORKERS,\n",
    "    collate_fn = collate_to_max_length\n",
    ")"
   ]
  },
  {
   "cell_type": "code",
   "execution_count": 7,
   "id": "9ebeaef3",
   "metadata": {},
   "outputs": [],
   "source": [
    "model = BaselineRuBERT (\n",
    "    in_path = IN_PATH,\n",
    "    out_path = OUT_PATH,\n",
    "    tag_to_id = train_dataset.tag_to_id,\n",
    "    total_steps = (len(train_dataset) // BATCH_SIZE) * MAX_EPOCHS,\n",
    "    lr = LR,\n",
    "    weight_decay = WEIGHT_DECAY\n",
    ")"
   ]
  },
  {
   "cell_type": "code",
   "execution_count": 8,
   "id": "20e2ab89",
   "metadata": {},
   "outputs": [],
   "source": [
    "checkpoint_callback = ModelCheckpoint(\n",
    "    # Директория, куда будут сохраняться чекпойнты и логи (по умолчанию корневая папка проекта)\n",
    "    dirpath = CKPT_PATH,\n",
    "    save_top_k = 1,\n",
    "    verbose = True,\n",
    "    monitor = 'macro_f1',\n",
    "    mode = \"max\", # Сохраняем самые максимальные по метрике модели\n",
    ")"
   ]
  },
  {
   "cell_type": "code",
   "execution_count": 9,
   "id": "4dc292d3",
   "metadata": {},
   "outputs": [
    {
     "name": "stderr",
     "output_type": "stream",
     "text": [
      "GPU available: False, used: False\n",
      "TPU available: False, using: 0 TPU cores\n",
      "IPU available: False, using: 0 IPUs\n"
     ]
    }
   ],
   "source": [
    "trainer = Trainer(\n",
    "    # gpus = -1,\n",
    "    callbacks = [checkpoint_callback],\n",
    "    num_sanity_val_steps = -1,\n",
    "    max_epochs = 1\n",
    ")"
   ]
  },
  {
   "cell_type": "code",
   "execution_count": 10,
   "id": "d3a8fee2",
   "metadata": {},
   "outputs": [
    {
     "name": "stderr",
     "output_type": "stream",
     "text": [
      "\n",
      "  | Name  | Type                       | Params\n",
      "-----------------------------------------------------\n",
      "0 | model | BertForTokenClassification | 177 M \n",
      "-----------------------------------------------------\n",
      "177 M     Trainable params\n",
      "0         Non-trainable params\n",
      "177 M     Total params\n",
      "709.411   Total estimated model params size (MB)\n"
     ]
    },
    {
     "data": {
      "application/vnd.jupyter.widget-view+json": {
       "model_id": "",
       "version_major": 2,
       "version_minor": 0
      },
      "text/plain": [
       "Validation sanity check: 0it [00:00, ?it/s]"
      ]
     },
     "metadata": {},
     "output_type": "display_data"
    },
    {
     "name": "stdout",
     "output_type": "stream",
     "text": [
      "\n",
      "Loss on dev: 5589.921964\n",
      "Mention F1: 0.00%\n",
      "Mention recall: 0.00%\n",
      "Mention precision: 0.00%\n",
      "Macro F1: 0.00%\n",
      "Macro F1 few-shot: 0.00%\n"
     ]
    },
    {
     "data": {
      "application/vnd.jupyter.widget-view+json": {
       "model_id": "4e5325e7bfb044cabac05036f7629c69",
       "version_major": 2,
       "version_minor": 0
      },
      "text/plain": [
       "Training: 0it [00:00, ?it/s]"
      ]
     },
     "metadata": {},
     "output_type": "display_data"
    },
    {
     "name": "stderr",
     "output_type": "stream",
     "text": [
      "F:\\Code\\Builds\\Python\\lib\\site-packages\\pytorch_lightning\\trainer\\trainer.py:688: UserWarning: Detected KeyboardInterrupt, attempting graceful shutdown...\n",
      "  rank_zero_warn(\"Detected KeyboardInterrupt, attempting graceful shutdown...\")\n"
     ]
    }
   ],
   "source": [
    "trainer.fit(model, train_dataloader, dev_dataloader) # Запуск процесса обучения и валидации, с мониторингом"
   ]
  },
  {
   "cell_type": "code",
   "execution_count": null,
   "id": "221ecd02",
   "metadata": {},
   "outputs": [],
   "source": []
  }
 ],
 "metadata": {
  "kernelspec": {
   "display_name": "Python 3 (ipykernel)",
   "language": "python",
   "name": "python3"
  },
  "language_info": {
   "codemirror_mode": {
    "name": "ipython",
    "version": 3
   },
   "file_extension": ".py",
   "mimetype": "text/x-python",
   "name": "python",
   "nbconvert_exporter": "python",
   "pygments_lexer": "ipython3",
   "version": "3.9.6"
  }
 },
 "nbformat": 4,
 "nbformat_minor": 5
}
