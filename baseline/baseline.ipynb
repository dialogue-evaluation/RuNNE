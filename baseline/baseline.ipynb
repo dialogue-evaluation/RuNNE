{
 "cells": [
  {
   "cell_type": "markdown",
   "id": "9de6ab48",
   "metadata": {
    "cellId": "ktpm53jrvph1y9ydslmz"
   },
   "source": [
    "# RuBERT для извлечения именованных сущностей (Бейзлайн для соревнования RuNNE)"
   ]
  },
  {
   "cell_type": "markdown",
   "id": "1c4514ea",
   "metadata": {
    "cellId": "ld2ocrp4ysoadbwm1yn4h"
   },
   "source": [
    "## Использование ноутбука\n",
    "\n",
    "Данный ноутбук полностью инициализирует бейзлайн модель, загружает данные (представленные в формате *brat*), проводит на них обучение и тестирование. \\\n",
    "Скрипт оценивания `score.py` полностью соотвествует базовому в `../scoring_program` за исключением параметризации выбора файла для загрузки. \n",
    "\n",
    "Перед запуском ноутбука требуется:\n",
    "1. Создать директорию `<IN_PATH>` - полное дерево по формату скрипта оценивания `score.py` (`ref`, `res`, а также файл со всеми сущностями `ners.txt`, см. `score.py`);\n",
    "2. Скачать словарь - файл `vocab.txt` [отсюда](https://huggingface.co/DeepPavlov/rubert-base-cased/blob/main/vocab.txt);\n",
    "3. Помимо самих данных, скачать оба файла `train.jsonl` и `dev.jsonl` из `../public_data` для автоматической проверки;\n",
    "4. Создать директорию для сохранения логов и чекпойнтов для обучения. \n",
    "\n",
    "Бейзлайн качество в лидерборде было получено при использовании этого ноутбука. Для проверки требуется получившийся после тестирования файл `<ВАШ IN_PATH>/res/dev.jsonl` переименовать в `test.jsonl` и загрузить в систему в виде zip-архива."
   ]
  },
  {
   "cell_type": "markdown",
   "id": "301e48e2",
   "metadata": {
    "cellId": "tjib383f48r66t8gzbwo1o"
   },
   "source": [
    "## Необходимые пакеты\n",
    "\n",
    "- PyTorch\n",
    "- PyTorch Lightning \n",
    "- HuggingFace Transformers\n",
    "- HuggingFace Tokenizers\n",
    "- NLTK (+punkt)\n",
    "- tqdm"
   ]
  },
  {
   "cell_type": "markdown",
   "id": "39f049cb",
   "metadata": {
    "cellId": "ur5c6x076sdvr5qzj9d1ue"
   },
   "source": [
    "## Загрузка библиотек и файлов"
   ]
  },
  {
   "cell_type": "code",
   "execution_count": null,
   "id": "a20c8bbe",
   "metadata": {
    "cellId": "98ja3shoawoo43d32du3l"
   },
   "outputs": [],
   "source": [
    "import pytorch_lightning as pl\n",
    "import torch\n",
    "import json\n",
    "from torch.utils.data import DataLoader\n",
    "from pytorch_lightning import Trainer\n",
    "\n",
    "from transformers import BertForTokenClassification, AdamW, get_linear_schedule_with_warmup, logging\n",
    "from tokenizers import BertWordPieceTokenizer\n",
    "from pytorch_lightning.callbacks.model_checkpoint import ModelCheckpoint\n",
    "\n",
    "from baseline import BaselineRuBERT\n",
    "from iobes_flat_dataset import IOBESFlatRuNNEDataset, collate_to_max_length\n",
    "from score import Evaluator"
   ]
  },
  {
   "cell_type": "markdown",
   "id": "201ba677",
   "metadata": {
    "cellId": "4x4qoh31lgk6w9cq1e65fv"
   },
   "source": [
    "## Параметры для обучения и/или тестирования модели\n",
    "\n",
    "Эти параметры можно (и нужно) менять для контролирования обучения, и других различных целей."
   ]
  },
  {
   "cell_type": "code",
   "execution_count": null,
   "id": "35fda6f6",
   "metadata": {
    "cellId": "qytk55mesmcgn3kzxiipvw"
   },
   "outputs": [],
   "source": [
    "VOCAB_PATH = \"./for_gits/vocab.txt\"\n",
    "NERS_PATH = \"./for_gits/eval/ref/ners.txt\"\n",
    "IN_PATH = \"./for_gits/eval\"\n",
    "OUT_PATH = \"./for_gits/eval\"\n",
    "\n",
    "TRAIN_PATH = \"./RuNNE/data/train\"\n",
    "DEV_PATH = \"./RuNNE/data/dev\"\n",
    "# TEST_PATH = \"./data/test\"\n",
    "\n",
    "TRAIN_IDS_PATH = \"./for_gits/train.jsonl\"\n",
    "DEV_IDS_PATH = \"./for_gits/dev.jsonl\"\n",
    "# TEST_IDS_PATH = \"./data/test.jsonl\"\n",
    "\n",
    "CKPT_PATH = \"./for_gits/checkpoints\"\n",
    "CKPT_FILE = \"./RuNNE/ckpt/epoch=206-step=37466.ckpt\"\n",
    "\n",
    "MAX_LEN = 128\n",
    "BATCH_SIZE = 8\n",
    "NUM_WORKERS = 8\n",
    "MAX_EPOCHS = 1\n",
    "LR = 1e-4\n",
    "WEIGHT_DECAY = 0.02"
   ]
  },
  {
   "cell_type": "markdown",
   "id": "126e5d9b",
   "metadata": {
    "cellId": "xumix1dv3we3bwf8rlfaxl"
   },
   "source": [
    "## Загрузка данных"
   ]
  },
  {
   "cell_type": "code",
   "execution_count": null,
   "id": "59f5a1ad",
   "metadata": {
    "cellId": "h3wyu7o2g9rm2uwzdaxfmc"
   },
   "outputs": [],
   "source": [
    "logging.set_verbosity_error()"
   ]
  },
  {
   "cell_type": "code",
   "execution_count": null,
   "id": "80f1d3e8",
   "metadata": {
    "cellId": "757fqetxragb8kr5mak3fq"
   },
   "outputs": [],
   "source": [
    "bertwptokenizer = BertWordPieceTokenizer(VOCAB_PATH, lowercase=False)"
   ]
  },
  {
   "cell_type": "code",
   "execution_count": null,
   "id": "4dc260aa",
   "metadata": {
    "cellId": "eqkukvc0m7g8xqybtqdjfn"
   },
   "outputs": [],
   "source": [
    "train_dataset = IOBESFlatRuNNEDataset( dataset_name = \"train\",\n",
    "                                       dataset_path = TRAIN_PATH, \n",
    "                                       ners_path = NERS_PATH, \n",
    "                                       format_path = TRAIN_IDS_PATH,\n",
    "                                       in_path = IN_PATH,\n",
    "                                       tokenizer = bertwptokenizer, \n",
    "                                       max_length = MAX_LEN )\n",
    "train_dataloader = DataLoader(\n",
    "    dataset = train_dataset,\n",
    "    batch_size = BATCH_SIZE,\n",
    "    shuffle = True,\n",
    "    num_workers = NUM_WORKERS,\n",
    "    collate_fn = collate_to_max_length\n",
    ")"
   ]
  },
  {
   "cell_type": "code",
   "execution_count": null,
   "id": "c7abb9bd",
   "metadata": {
    "cellId": "xbhpvmfq19jkumentjxq9"
   },
   "outputs": [],
   "source": [
    "dev_dataset   = IOBESFlatRuNNEDataset( dataset_name = \"dev\",\n",
    "                                       dataset_path = DEV_PATH,   \n",
    "                                       ners_path = NERS_PATH, \n",
    "                                       format_path = DEV_IDS_PATH,\n",
    "                                       in_path = IN_PATH,\n",
    "                                       tokenizer = bertwptokenizer, \n",
    "                                       max_length = MAX_LEN )\n",
    "dev_dataloader = DataLoader(\n",
    "    dataset = dev_dataset,\n",
    "    batch_size = BATCH_SIZE,\n",
    "    shuffle = False,\n",
    "    num_workers = NUM_WORKERS,\n",
    "    collate_fn = collate_to_max_length\n",
    ")"
   ]
  },
  {
   "cell_type": "markdown",
   "id": "df8be906",
   "metadata": {
    "cellId": "905otcwk23ihuuu959vkwu"
   },
   "source": [
    "## Инициализация модели и трейнера для обучения"
   ]
  },
  {
   "cell_type": "code",
   "execution_count": null,
   "id": "f6684964",
   "metadata": {
    "cellId": "qocuj99ir3mdfcbt3654v"
   },
   "outputs": [],
   "source": [
    "model = BaselineRuBERT (\n",
    "    in_path = IN_PATH,\n",
    "    out_path = OUT_PATH,\n",
    "    tag_to_id = train_dataset.tag_to_id,\n",
    "    total_steps = (len(train_dataset) // BATCH_SIZE) * MAX_EPOCHS,\n",
    "    lr = LR,\n",
    "    weight_decay = WEIGHT_DECAY\n",
    ")"
   ]
  },
  {
   "cell_type": "code",
   "execution_count": null,
   "id": "112f08d9",
   "metadata": {
    "cellId": "1ioiicx5brkyy3qxwmmcy"
   },
   "outputs": [],
   "source": [
    "checkpoint_callback = ModelCheckpoint(\n",
    "    # Директория, куда будут сохраняться чекпойнты и логи (по умолчанию корневая папка проекта)\n",
    "    dirpath = CKPT_PATH,\n",
    "    save_top_k = 1,\n",
    "    verbose = True,\n",
    "    monitor = 'macro_f1',\n",
    "    mode = \"max\", # Сохраняем самые максимальные по метрике модели\n",
    ")"
   ]
  },
  {
   "cell_type": "code",
   "execution_count": null,
   "id": "1826a734",
   "metadata": {
    "cellId": "3bt6id4jjy344923cgxbdo"
   },
   "outputs": [],
   "source": [
    "trainer = Trainer(\n",
    "    gpus = -1,\n",
    "    callbacks = [checkpoint_callback],\n",
    "    num_sanity_val_steps = -1,\n",
    "    max_epochs = 1\n",
    ")"
   ]
  },
  {
   "cell_type": "markdown",
   "id": "e9d78a8f",
   "metadata": {
    "cellId": "a0tbm3uv62io4hr589h0ll"
   },
   "source": [
    "## Обучение"
   ]
  },
  {
   "cell_type": "code",
   "execution_count": null,
   "id": "e67f710b",
   "metadata": {
    "cellId": "j654i3maswnxvhp1mfkuz"
   },
   "outputs": [],
   "source": [
    "trainer.fit(model, train_dataloader, dev_dataloader) # Запуск процесса обучения и валидации, с мониторингом"
   ]
  },
  {
   "cell_type": "markdown",
   "id": "c647dd97",
   "metadata": {
    "cellId": "o1ez3ov5lvdncbfvt0czu"
   },
   "source": [
    "## Инициализация модели из чекпойнта и трейнера для тестирования"
   ]
  },
  {
   "cell_type": "code",
   "execution_count": null,
   "id": "2ffa1a75",
   "metadata": {
    "cellId": "ln6kq9eg8vplqc6yg6ywub"
   },
   "outputs": [],
   "source": [
    "ckpt_model = BaselineRuBERT.load_from_checkpoint(\n",
    "    CKPT_FILE, \n",
    "    in_path = IN_PATH,\n",
    "    out_path = OUT_PATH,\n",
    "    tag_to_id = dev_dataset.tag_to_id,\n",
    "    total_steps = 0, \n",
    "    lr = LR,\n",
    "    weight_decay = WEIGHT_DECAY\n",
    ")"
   ]
  },
  {
   "cell_type": "code",
   "execution_count": null,
   "id": "8f73fd0e",
   "metadata": {
    "cellId": "30letkvogijr1nt37v4u69"
   },
   "outputs": [],
   "source": [
    "val_trainer = Trainer(\n",
    "    gpus = -1\n",
    ")"
   ]
  },
  {
   "cell_type": "markdown",
   "id": "30172933",
   "metadata": {
    "cellId": "ztsy395ztq18852smcule"
   },
   "source": [
    "## Тестирование"
   ]
  },
  {
   "cell_type": "code",
   "execution_count": null,
   "id": "3ef15dca",
   "metadata": {
    "cellId": "jo5a92wc5qeeonvnfalbu"
   },
   "outputs": [],
   "source": [
    "val_trainer.validate(ckpt_model, dataloaders = dev_dataloader)"
   ]
  },
  {
   "cell_type": "code",
   "execution_count": null,
   "id": "6d035e07",
   "metadata": {
    "cellId": "9j4v82832kugcnd6kh4ubj"
   },
   "outputs": [],
   "source": []
  }
 ],
 "metadata": {
  "kernelspec": {
   "display_name": "Python 3 (ipykernel)",
   "language": "python",
   "name": "python3"
  },
  "language_info": {
   "codemirror_mode": {
    "name": "ipython",
    "version": 3
   },
   "file_extension": ".py",
   "mimetype": "text/x-python",
   "name": "python",
   "nbconvert_exporter": "python",
   "pygments_lexer": "ipython3",
   "version": "3.9.6"
  },
  "notebookId": "8f0ce0f2-2467-4ad6-ac45-0326ac2dbada",
  "notebookPath": "for_gits/baseline.ipynb",
  "widgets": {
   "application/vnd.jupyter.widget-state+json": {
    "state": {
     "016c09d08404475d86a81dbb3b1710fc": {
      "model_module": "@jupyter-widgets/controls",
      "model_module_version": "1.5.0",
      "model_name": "DescriptionStyleModel",
      "state": {
       "description_width": ""
      }
     },
     "019c89ab8830458cb9bb2d708c65a8cc": {
      "model_module": "@jupyter-widgets/controls",
      "model_module_version": "1.5.0",
      "model_name": "FloatProgressModel",
      "state": {
       "bar_style": "info",
       "description": "Validation sanity check: 100%",
       "layout": "IPY_MODEL_302f2eb5567f4bc19699b2b025acf2a8",
       "max": 150,
       "style": "IPY_MODEL_19fcc26f9af84930a342e837821d658b",
       "value": 150
      }
     },
     "03dba4e5115f49e2926a5ea0789bb97e": {
      "model_module": "@jupyter-widgets/base",
      "model_module_version": "1.2.0",
      "model_name": "LayoutModel",
      "state": {}
     },
     "05b4073de7d242e98ffe660f5a868f98": {
      "model_module": "@jupyter-widgets/base",
      "model_module_version": "1.2.0",
      "model_name": "LayoutModel",
      "state": {
       "flex": "2"
      }
     },
     "05e4cfda2dad494787cf22b0538c5b92": {
      "model_module": "@jupyter-widgets/controls",
      "model_module_version": "1.5.0",
      "model_name": "ProgressStyleModel",
      "state": {
       "description_width": "initial"
      }
     },
     "05eaeeadd20d43ba8441f2e277a5124f": {
      "model_module": "@jupyter-widgets/controls",
      "model_module_version": "1.5.0",
      "model_name": "HBoxModel",
      "state": {
       "children": [
        "IPY_MODEL_019c89ab8830458cb9bb2d708c65a8cc",
        "IPY_MODEL_1638326705c5440dbc3ed2a5fd6a3c20"
       ],
       "layout": "IPY_MODEL_65549a767b0e416ca294f22c90b55566"
      }
     },
     "0f101727dc3b48c7bb60dc8de5d77c5e": {
      "model_module": "@jupyter-widgets/base",
      "model_module_version": "1.2.0",
      "model_name": "LayoutModel",
      "state": {}
     },
     "14d6339b5bd84df7897d7798c60bf990": {
      "model_module": "@jupyter-widgets/base",
      "model_module_version": "1.2.0",
      "model_name": "LayoutModel",
      "state": {}
     },
     "1638326705c5440dbc3ed2a5fd6a3c20": {
      "model_module": "@jupyter-widgets/controls",
      "model_module_version": "1.5.0",
      "model_name": "HTMLModel",
      "state": {
       "layout": "IPY_MODEL_df1a08ba464543479eec850082c8c33f",
       "style": "IPY_MODEL_1b595867bcb748b68163b06655a83934",
       "value": " 150/150 [00:06&lt;00:00, 69.01it/s]"
      }
     },
     "18abf637a9a642f4a97a04d0b1e91e05": {
      "model_module": "@jupyter-widgets/base",
      "model_module_version": "1.2.0",
      "model_name": "LayoutModel",
      "state": {
       "flex": "2"
      }
     },
     "19fcc26f9af84930a342e837821d658b": {
      "model_module": "@jupyter-widgets/controls",
      "model_module_version": "1.5.0",
      "model_name": "ProgressStyleModel",
      "state": {
       "description_width": "initial"
      }
     },
     "1b595867bcb748b68163b06655a83934": {
      "model_module": "@jupyter-widgets/controls",
      "model_module_version": "1.5.0",
      "model_name": "DescriptionStyleModel",
      "state": {
       "description_width": ""
      }
     },
     "1e0d207e28864ec1931983d95b1c86bd": {
      "model_module": "@jupyter-widgets/controls",
      "model_module_version": "1.5.0",
      "model_name": "DescriptionStyleModel",
      "state": {
       "description_width": ""
      }
     },
     "2000c326ec67417da1dc78aa206dba07": {
      "model_module": "@jupyter-widgets/controls",
      "model_module_version": "1.5.0",
      "model_name": "ProgressStyleModel",
      "state": {
       "description_width": "initial"
      }
     },
     "21c2c6236f494835ab619167d59e22a2": {
      "model_module": "@jupyter-widgets/controls",
      "model_module_version": "1.5.0",
      "model_name": "HTMLModel",
      "state": {
       "layout": "IPY_MODEL_57a37b4f8c814d10bb472b9b47289aa4",
       "style": "IPY_MODEL_a260142983c04875b128c1c37401724a",
       "value": " 323/323 [00:24&lt;00:00, 13.06it/s]"
      }
     },
     "231c3749fb5b447d98deb85f1d11d7de": {
      "model_module": "@jupyter-widgets/base",
      "model_module_version": "1.2.0",
      "model_name": "LayoutModel",
      "state": {
       "display": "inline-flex",
       "flex_flow": "row wrap",
       "width": "100%"
      }
     },
     "232c7564d13048c1b4da45296b9e313f": {
      "model_module": "@jupyter-widgets/controls",
      "model_module_version": "1.5.0",
      "model_name": "DescriptionStyleModel",
      "state": {
       "description_width": ""
      }
     },
     "24b97be42867471c97e62c5926f5fe2c": {
      "model_module": "@jupyter-widgets/controls",
      "model_module_version": "1.5.0",
      "model_name": "HBoxModel",
      "state": {
       "children": [
        "IPY_MODEL_2866eb954d56408c856d3733ba30c6d9",
        "IPY_MODEL_7e2ffdf9f378476ca059402b6056a07a"
       ],
       "layout": "IPY_MODEL_681bdf8043f44630bf7e03181513a74e"
      }
     },
     "2521151e82f24f839d47e7521d8350fb": {
      "model_module": "@jupyter-widgets/controls",
      "model_module_version": "1.5.0",
      "model_name": "DescriptionStyleModel",
      "state": {
       "description_width": ""
      }
     },
     "2866eb954d56408c856d3733ba30c6d9": {
      "model_module": "@jupyter-widgets/controls",
      "model_module_version": "1.5.0",
      "model_name": "FloatProgressModel",
      "state": {
       "bar_style": "info",
       "description": "Validating: 100%",
       "layout": "IPY_MODEL_562e3ee878ea4eaf9fc8f7a449ffbbdf",
       "max": 150,
       "style": "IPY_MODEL_7b026405685d4ab2896b5817f186f423",
       "value": 150
      }
     },
     "2a2b7c27544e44a68e06649e4cfaa0eb": {
      "model_module": "@jupyter-widgets/controls",
      "model_module_version": "1.5.0",
      "model_name": "HTMLModel",
      "state": {
       "layout": "IPY_MODEL_edf7b3ae63bf4c7b93159ebe048aabe2",
       "style": "IPY_MODEL_951cc1a3207b4504905a13e3eabd6aed",
       "value": " 150/150 [00:04&lt;00:00, 68.66it/s]"
      }
     },
     "2c5768486f814a568d282f48e96a4321": {
      "model_module": "@jupyter-widgets/controls",
      "model_module_version": "1.5.0",
      "model_name": "FloatProgressModel",
      "state": {
       "bar_style": "success",
       "description": "100%",
       "layout": "IPY_MODEL_836680819711452b9a03a7aeed7497fb",
       "max": 323,
       "style": "IPY_MODEL_5f730f3432094ae4b8b1f833ffaf67b9",
       "value": 323
      }
     },
     "2d6a398731d54211987cce1df0e74d11": {
      "model_module": "@jupyter-widgets/controls",
      "model_module_version": "1.5.0",
      "model_name": "HBoxModel",
      "state": {
       "children": [
        "IPY_MODEL_55b6ba4976f24fba8fbb74ab84f7272e",
        "IPY_MODEL_4dd3295ac9f2457c80e2d9e39d6d94d8"
       ],
       "layout": "IPY_MODEL_bc745ad9c263421681caf66f6b5e6e23"
      }
     },
     "302f2eb5567f4bc19699b2b025acf2a8": {
      "model_module": "@jupyter-widgets/base",
      "model_module_version": "1.2.0",
      "model_name": "LayoutModel",
      "state": {
       "flex": "2"
      }
     },
     "322178c3131940a08c3530b963c5ce6a": {
      "model_module": "@jupyter-widgets/controls",
      "model_module_version": "1.5.0",
      "model_name": "ProgressStyleModel",
      "state": {
       "description_width": "initial"
      }
     },
     "3affb6b3a4d84f24a94842fc4778d096": {
      "model_module": "@jupyter-widgets/base",
      "model_module_version": "1.2.0",
      "model_name": "LayoutModel",
      "state": {
       "flex": "2"
      }
     },
     "40b822817226418dbdf3f63eca9b99af": {
      "model_module": "@jupyter-widgets/controls",
      "model_module_version": "1.5.0",
      "model_name": "HTMLModel",
      "state": {
       "layout": "IPY_MODEL_a185f4aa0a5648b8a78633d816eaf0a4",
       "style": "IPY_MODEL_016c09d08404475d86a81dbb3b1710fc",
       "value": " 714M/714M [00:46&lt;00:00, 15.5MB/s]"
      }
     },
     "42ff3180038a468db5fc8e182a8eafef": {
      "model_module": "@jupyter-widgets/controls",
      "model_module_version": "1.5.0",
      "model_name": "HBoxModel",
      "state": {
       "children": [
        "IPY_MODEL_69ec6b30685c47d0b64ac6fba2cb65e4",
        "IPY_MODEL_dc4872b7f122461c859ec4778c615d29"
       ],
       "layout": "IPY_MODEL_0f101727dc3b48c7bb60dc8de5d77c5e"
      }
     },
     "470233109a194dacad4ddc85e4473018": {
      "model_module": "@jupyter-widgets/base",
      "model_module_version": "1.2.0",
      "model_name": "LayoutModel",
      "state": {}
     },
     "4d095a5ee8554f1c9fc841d162d73877": {
      "model_module": "@jupyter-widgets/controls",
      "model_module_version": "1.5.0",
      "model_name": "ProgressStyleModel",
      "state": {
       "description_width": "initial"
      }
     },
     "4dd3295ac9f2457c80e2d9e39d6d94d8": {
      "model_module": "@jupyter-widgets/controls",
      "model_module_version": "1.5.0",
      "model_name": "HTMLModel",
      "state": {
       "layout": "IPY_MODEL_14d6339b5bd84df7897d7798c60bf990",
       "style": "IPY_MODEL_232c7564d13048c1b4da45296b9e313f",
       "value": " 846/846 [01:15&lt;00:00, 11.17it/s, loss=0.849, v_num=4]"
      }
     },
     "4e356193d1444b529b10ffbc3d2a6c0c": {
      "model_module": "@jupyter-widgets/base",
      "model_module_version": "1.2.0",
      "model_name": "LayoutModel",
      "state": {
       "flex": "2"
      }
     },
     "4f584ebb80c240fda482b4b1b3c550ed": {
      "model_module": "@jupyter-widgets/controls",
      "model_module_version": "1.5.0",
      "model_name": "DescriptionStyleModel",
      "state": {
       "description_width": ""
      }
     },
     "517db260ace746759f709d02c2b0db60": {
      "model_module": "@jupyter-widgets/controls",
      "model_module_version": "1.5.0",
      "model_name": "HBoxModel",
      "state": {
       "children": [
        "IPY_MODEL_5b6c48d16fd146aab4e83ce975961389",
        "IPY_MODEL_8e61ff865aad46dc9f470f9638b38256"
       ],
       "layout": "IPY_MODEL_5db67376bd834e02a3a3348ed8d7b171"
      }
     },
     "51c8ddbd2e1f42ff86e5a5951974baad": {
      "model_module": "@jupyter-widgets/controls",
      "model_module_version": "1.5.0",
      "model_name": "ProgressStyleModel",
      "state": {
       "description_width": "initial"
      }
     },
     "51e5bcd49da146679bb5df3b6b132d7a": {
      "model_module": "@jupyter-widgets/controls",
      "model_module_version": "1.5.0",
      "model_name": "HTMLModel",
      "state": {
       "layout": "IPY_MODEL_5676f73cfa694b5a9aa3a8ee92b0c2fa",
       "style": "IPY_MODEL_be2779db45604895a2b7f109d41963ce",
       "value": " 922/922 [00:59&lt;00:00, 15.57it/s]"
      }
     },
     "55b6ba4976f24fba8fbb74ab84f7272e": {
      "model_module": "@jupyter-widgets/controls",
      "model_module_version": "1.5.0",
      "model_name": "FloatProgressModel",
      "state": {
       "bar_style": "success",
       "description": "Epoch 0: 100%",
       "layout": "IPY_MODEL_94f97d505f774582956144486cd041a3",
       "max": 846,
       "style": "IPY_MODEL_98f3bc105d174c4385cb4d039f172bab",
       "value": 846
      }
     },
     "55e482037b164f0f99ac2f7e64fa2aad": {
      "model_module": "@jupyter-widgets/controls",
      "model_module_version": "1.5.0",
      "model_name": "DescriptionStyleModel",
      "state": {
       "description_width": ""
      }
     },
     "562e3ee878ea4eaf9fc8f7a449ffbbdf": {
      "model_module": "@jupyter-widgets/base",
      "model_module_version": "1.2.0",
      "model_name": "LayoutModel",
      "state": {
       "flex": "2"
      }
     },
     "5676f73cfa694b5a9aa3a8ee92b0c2fa": {
      "model_module": "@jupyter-widgets/base",
      "model_module_version": "1.2.0",
      "model_name": "LayoutModel",
      "state": {}
     },
     "57a37b4f8c814d10bb472b9b47289aa4": {
      "model_module": "@jupyter-widgets/base",
      "model_module_version": "1.2.0",
      "model_name": "LayoutModel",
      "state": {}
     },
     "581fcabcff25450fb039617a7424efd8": {
      "model_module": "@jupyter-widgets/controls",
      "model_module_version": "1.5.0",
      "model_name": "ProgressStyleModel",
      "state": {
       "description_width": "initial"
      }
     },
     "5b6c48d16fd146aab4e83ce975961389": {
      "model_module": "@jupyter-widgets/controls",
      "model_module_version": "1.5.0",
      "model_name": "FloatProgressModel",
      "state": {
       "bar_style": "success",
       "description": "Epoch 0: 100%",
       "layout": "IPY_MODEL_4e356193d1444b529b10ffbc3d2a6c0c",
       "max": 846,
       "style": "IPY_MODEL_05e4cfda2dad494787cf22b0538c5b92",
       "value": 846
      }
     },
     "5c4a1d1548f2445fb0888f4c0fb9d8ab": {
      "model_module": "@jupyter-widgets/base",
      "model_module_version": "1.2.0",
      "model_name": "LayoutModel",
      "state": {}
     },
     "5db67376bd834e02a3a3348ed8d7b171": {
      "model_module": "@jupyter-widgets/base",
      "model_module_version": "1.2.0",
      "model_name": "LayoutModel",
      "state": {
       "display": "inline-flex",
       "flex_flow": "row wrap",
       "width": "100%"
      }
     },
     "5f730f3432094ae4b8b1f833ffaf67b9": {
      "model_module": "@jupyter-widgets/controls",
      "model_module_version": "1.5.0",
      "model_name": "ProgressStyleModel",
      "state": {
       "description_width": "initial"
      }
     },
     "60b236daa1b44f3c86dc3ef447b253f5": {
      "model_module": "@jupyter-widgets/base",
      "model_module_version": "1.2.0",
      "model_name": "LayoutModel",
      "state": {}
     },
     "6405863a4760430199ec142feb9153dd": {
      "model_module": "@jupyter-widgets/controls",
      "model_module_version": "1.5.0",
      "model_name": "HTMLModel",
      "state": {
       "layout": "IPY_MODEL_60b236daa1b44f3c86dc3ef447b253f5",
       "style": "IPY_MODEL_55e482037b164f0f99ac2f7e64fa2aad",
       "value": " 150/150 [00:06&lt;00:00, 69.23it/s]"
      }
     },
     "645ae37e807e47838e29e8c184aa85da": {
      "model_module": "@jupyter-widgets/controls",
      "model_module_version": "1.5.0",
      "model_name": "HTMLModel",
      "state": {
       "layout": "IPY_MODEL_5c4a1d1548f2445fb0888f4c0fb9d8ab",
       "style": "IPY_MODEL_c0cf4278b37248669aa8ad3ed95a27e9",
       "value": " 150/150 [00:04&lt;00:00, 67.24it/s]"
      }
     },
     "65549a767b0e416ca294f22c90b55566": {
      "model_module": "@jupyter-widgets/base",
      "model_module_version": "1.2.0",
      "model_name": "LayoutModel",
      "state": {
       "display": "inline-flex",
       "flex_flow": "row wrap",
       "width": "100%"
      }
     },
     "667f35b35aef46c1ae474dc8520cb140": {
      "model_module": "@jupyter-widgets/controls",
      "model_module_version": "1.5.0",
      "model_name": "FloatProgressModel",
      "state": {
       "bar_style": "info",
       "description": "Validating: 100%",
       "layout": "IPY_MODEL_18abf637a9a642f4a97a04d0b1e91e05",
       "max": 150,
       "style": "IPY_MODEL_4d095a5ee8554f1c9fc841d162d73877",
       "value": 150
      }
     },
     "681bdf8043f44630bf7e03181513a74e": {
      "model_module": "@jupyter-widgets/base",
      "model_module_version": "1.2.0",
      "model_name": "LayoutModel",
      "state": {
       "display": "inline-flex",
       "flex_flow": "row wrap",
       "width": "100%"
      }
     },
     "69ec6b30685c47d0b64ac6fba2cb65e4": {
      "model_module": "@jupyter-widgets/controls",
      "model_module_version": "1.5.0",
      "model_name": "FloatProgressModel",
      "state": {
       "bar_style": "success",
       "description": "Downloading: 100%",
       "layout": "IPY_MODEL_a2b3803851dd432caa341eab7061147f",
       "max": 642,
       "style": "IPY_MODEL_51c8ddbd2e1f42ff86e5a5951974baad",
       "value": 642
      }
     },
     "6a13781ae67a40d9b3cd9a2cece20921": {
      "model_module": "@jupyter-widgets/controls",
      "model_module_version": "1.5.0",
      "model_name": "HBoxModel",
      "state": {
       "children": [
        "IPY_MODEL_70c5c5e60fa34790a260804f03d6df9a",
        "IPY_MODEL_d26aa714e29a47ed9c1424758e987753"
       ],
       "layout": "IPY_MODEL_d422e44636544b76886f8a709d552485"
      }
     },
     "6ae20d9502084940a073fc990407e941": {
      "model_module": "@jupyter-widgets/controls",
      "model_module_version": "1.5.0",
      "model_name": "ProgressStyleModel",
      "state": {
       "description_width": "initial"
      }
     },
     "6e6bd055bccb4d1daca72ca0b9575610": {
      "model_module": "@jupyter-widgets/controls",
      "model_module_version": "1.5.0",
      "model_name": "FloatProgressModel",
      "state": {
       "bar_style": "success",
       "description": "Downloading: 100%",
       "layout": "IPY_MODEL_03dba4e5115f49e2926a5ea0789bb97e",
       "max": 714355318,
       "style": "IPY_MODEL_8984a5533266471a8b8637dd7e845eba",
       "value": 714355318
      }
     },
     "6f1a06039f904b2eb14326fb470518e1": {
      "model_module": "@jupyter-widgets/controls",
      "model_module_version": "1.5.0",
      "model_name": "HTMLModel",
      "state": {
       "layout": "IPY_MODEL_fdaa127edf0a4edf934a9c87220e322d",
       "style": "IPY_MODEL_4f584ebb80c240fda482b4b1b3c550ed",
       "value": " 922/922 [01:47&lt;00:00,  8.58it/s]"
      }
     },
     "70c5c5e60fa34790a260804f03d6df9a": {
      "model_module": "@jupyter-widgets/controls",
      "model_module_version": "1.5.0",
      "model_name": "FloatProgressModel",
      "state": {
       "bar_style": "info",
       "description": "Validating: 100%",
       "layout": "IPY_MODEL_05b4073de7d242e98ffe660f5a868f98",
       "max": 150,
       "style": "IPY_MODEL_581fcabcff25450fb039617a7424efd8",
       "value": 150
      }
     },
     "7b026405685d4ab2896b5817f186f423": {
      "model_module": "@jupyter-widgets/controls",
      "model_module_version": "1.5.0",
      "model_name": "ProgressStyleModel",
      "state": {
       "description_width": "initial"
      }
     },
     "7e2ffdf9f378476ca059402b6056a07a": {
      "model_module": "@jupyter-widgets/controls",
      "model_module_version": "1.5.0",
      "model_name": "HTMLModel",
      "state": {
       "layout": "IPY_MODEL_9c7b738994f24398a99d38af470b02d1",
       "style": "IPY_MODEL_b06588e078b24994afbbb58b0c9135c8",
       "value": " 150/150 [00:03&lt;00:00, 68.08it/s]"
      }
     },
     "7e459e68d19148fcba757e9a1a9e80e3": {
      "model_module": "@jupyter-widgets/base",
      "model_module_version": "1.2.0",
      "model_name": "LayoutModel",
      "state": {}
     },
     "836680819711452b9a03a7aeed7497fb": {
      "model_module": "@jupyter-widgets/base",
      "model_module_version": "1.2.0",
      "model_name": "LayoutModel",
      "state": {}
     },
     "8467e18beef94f3e853fb5a43af44a18": {
      "model_module": "@jupyter-widgets/controls",
      "model_module_version": "1.5.0",
      "model_name": "FloatProgressModel",
      "state": {
       "bar_style": "success",
       "description": "100%",
       "layout": "IPY_MODEL_e57962207e4a4499b67a039cb9bdcdec",
       "max": 922,
       "style": "IPY_MODEL_cf3ebc63f5bb48fda935100d7e1257f6",
       "value": 922
      }
     },
     "884fdcc5ff9d4607a699fb10504fa857": {
      "model_module": "@jupyter-widgets/base",
      "model_module_version": "1.2.0",
      "model_name": "LayoutModel",
      "state": {
       "display": "inline-flex",
       "flex_flow": "row wrap",
       "width": "100%"
      }
     },
     "8984a5533266471a8b8637dd7e845eba": {
      "model_module": "@jupyter-widgets/controls",
      "model_module_version": "1.5.0",
      "model_name": "ProgressStyleModel",
      "state": {
       "description_width": "initial"
      }
     },
     "8a525a64baba468796e2be78c8c08d33": {
      "model_module": "@jupyter-widgets/controls",
      "model_module_version": "1.5.0",
      "model_name": "HTMLModel",
      "state": {
       "layout": "IPY_MODEL_8b57a483c09b47fdacad49581977b12a",
       "style": "IPY_MODEL_f232a8b4e92d4cb19ea972668206518f",
       "value": " 323/323 [00:00&lt;00:00, 1101.15it/s]"
      }
     },
     "8b57a483c09b47fdacad49581977b12a": {
      "model_module": "@jupyter-widgets/base",
      "model_module_version": "1.2.0",
      "model_name": "LayoutModel",
      "state": {}
     },
     "8dee8fbf58cb444799658fec87883527": {
      "model_module": "@jupyter-widgets/base",
      "model_module_version": "1.2.0",
      "model_name": "LayoutModel",
      "state": {}
     },
     "8e61ff865aad46dc9f470f9638b38256": {
      "model_module": "@jupyter-widgets/controls",
      "model_module_version": "1.5.0",
      "model_name": "HTMLModel",
      "state": {
       "layout": "IPY_MODEL_7e459e68d19148fcba757e9a1a9e80e3",
       "style": "IPY_MODEL_2521151e82f24f839d47e7521d8350fb",
       "value": " 846/846 [03:45&lt;00:00,  3.75it/s, loss=0.786, v_num=2]"
      }
     },
     "90f012b31cf44609a34d0882ea51df4c": {
      "model_module": "@jupyter-widgets/controls",
      "model_module_version": "1.5.0",
      "model_name": "ProgressStyleModel",
      "state": {
       "description_width": "initial"
      }
     },
     "94f97d505f774582956144486cd041a3": {
      "model_module": "@jupyter-widgets/base",
      "model_module_version": "1.2.0",
      "model_name": "LayoutModel",
      "state": {
       "flex": "2"
      }
     },
     "951cc1a3207b4504905a13e3eabd6aed": {
      "model_module": "@jupyter-widgets/controls",
      "model_module_version": "1.5.0",
      "model_name": "DescriptionStyleModel",
      "state": {
       "description_width": ""
      }
     },
     "955714bd783d428ba1c453c0a197c222": {
      "model_module": "@jupyter-widgets/base",
      "model_module_version": "1.2.0",
      "model_name": "LayoutModel",
      "state": {}
     },
     "98f3bc105d174c4385cb4d039f172bab": {
      "model_module": "@jupyter-widgets/controls",
      "model_module_version": "1.5.0",
      "model_name": "ProgressStyleModel",
      "state": {
       "description_width": "initial"
      }
     },
     "9c7b738994f24398a99d38af470b02d1": {
      "model_module": "@jupyter-widgets/base",
      "model_module_version": "1.2.0",
      "model_name": "LayoutModel",
      "state": {}
     },
     "a185f4aa0a5648b8a78633d816eaf0a4": {
      "model_module": "@jupyter-widgets/base",
      "model_module_version": "1.2.0",
      "model_name": "LayoutModel",
      "state": {}
     },
     "a260142983c04875b128c1c37401724a": {
      "model_module": "@jupyter-widgets/controls",
      "model_module_version": "1.5.0",
      "model_name": "DescriptionStyleModel",
      "state": {
       "description_width": ""
      }
     },
     "a2b3803851dd432caa341eab7061147f": {
      "model_module": "@jupyter-widgets/base",
      "model_module_version": "1.2.0",
      "model_name": "LayoutModel",
      "state": {}
     },
     "a64a27836a8345ad8cae9dbc594174fc": {
      "model_module": "@jupyter-widgets/controls",
      "model_module_version": "1.5.0",
      "model_name": "HBoxModel",
      "state": {
       "children": [
        "IPY_MODEL_8467e18beef94f3e853fb5a43af44a18",
        "IPY_MODEL_51e5bcd49da146679bb5df3b6b132d7a"
       ],
       "layout": "IPY_MODEL_955714bd783d428ba1c453c0a197c222"
      }
     },
     "a744ba7d116644f699cca5bbd21242b3": {
      "model_module": "@jupyter-widgets/controls",
      "model_module_version": "1.5.0",
      "model_name": "FloatProgressModel",
      "state": {
       "bar_style": "success",
       "description": "100%",
       "layout": "IPY_MODEL_8dee8fbf58cb444799658fec87883527",
       "max": 922,
       "style": "IPY_MODEL_322178c3131940a08c3530b963c5ce6a",
       "value": 922
      }
     },
     "a9ae3c6abf4748bb80be30ecc4c93024": {
      "model_module": "@jupyter-widgets/base",
      "model_module_version": "1.2.0",
      "model_name": "LayoutModel",
      "state": {}
     },
     "a9b4e52b3c8147ee91d27e3f36855b00": {
      "model_module": "@jupyter-widgets/controls",
      "model_module_version": "1.5.0",
      "model_name": "DescriptionStyleModel",
      "state": {
       "description_width": ""
      }
     },
     "b06588e078b24994afbbb58b0c9135c8": {
      "model_module": "@jupyter-widgets/controls",
      "model_module_version": "1.5.0",
      "model_name": "DescriptionStyleModel",
      "state": {
       "description_width": ""
      }
     },
     "b5f528e5b2694993b3465f8e5ef52c07": {
      "model_module": "@jupyter-widgets/base",
      "model_module_version": "1.2.0",
      "model_name": "LayoutModel",
      "state": {}
     },
     "b7f70025aab34c5ebefcbdfe9de25a79": {
      "model_module": "@jupyter-widgets/base",
      "model_module_version": "1.2.0",
      "model_name": "LayoutModel",
      "state": {
       "display": "inline-flex",
       "flex_flow": "row wrap",
       "width": "100%"
      }
     },
     "bc5662a3ac6c49f6943a212995cefd87": {
      "model_module": "@jupyter-widgets/controls",
      "model_module_version": "1.5.0",
      "model_name": "HBoxModel",
      "state": {
       "children": [
        "IPY_MODEL_a744ba7d116644f699cca5bbd21242b3",
        "IPY_MODEL_6f1a06039f904b2eb14326fb470518e1"
       ],
       "layout": "IPY_MODEL_d673701832b844e8a505b0dbd8a39eec"
      }
     },
     "bc745ad9c263421681caf66f6b5e6e23": {
      "model_module": "@jupyter-widgets/base",
      "model_module_version": "1.2.0",
      "model_name": "LayoutModel",
      "state": {
       "display": "inline-flex",
       "flex_flow": "row wrap",
       "width": "100%"
      }
     },
     "be2779db45604895a2b7f109d41963ce": {
      "model_module": "@jupyter-widgets/controls",
      "model_module_version": "1.5.0",
      "model_name": "DescriptionStyleModel",
      "state": {
       "description_width": ""
      }
     },
     "bf89078441ca4889a0393b1f931f1957": {
      "model_module": "@jupyter-widgets/controls",
      "model_module_version": "1.5.0",
      "model_name": "FloatProgressModel",
      "state": {
       "bar_style": "info",
       "description": "Validating: 100%",
       "layout": "IPY_MODEL_e86b3a232539465eba585288ca961108",
       "max": 150,
       "style": "IPY_MODEL_6ae20d9502084940a073fc990407e941",
       "value": 150
      }
     },
     "c0cf4278b37248669aa8ad3ed95a27e9": {
      "model_module": "@jupyter-widgets/controls",
      "model_module_version": "1.5.0",
      "model_name": "DescriptionStyleModel",
      "state": {
       "description_width": ""
      }
     },
     "c72fde2bd8ef4436aea7048055ea93c7": {
      "model_module": "@jupyter-widgets/base",
      "model_module_version": "1.2.0",
      "model_name": "LayoutModel",
      "state": {}
     },
     "cf3ebc63f5bb48fda935100d7e1257f6": {
      "model_module": "@jupyter-widgets/controls",
      "model_module_version": "1.5.0",
      "model_name": "ProgressStyleModel",
      "state": {
       "description_width": "initial"
      }
     },
     "d26aa714e29a47ed9c1424758e987753": {
      "model_module": "@jupyter-widgets/controls",
      "model_module_version": "1.5.0",
      "model_name": "HTMLModel",
      "state": {
       "layout": "IPY_MODEL_edf0c2b142af49078460e48e346be467",
       "style": "IPY_MODEL_1e0d207e28864ec1931983d95b1c86bd",
       "value": " 150/150 [00:04&lt;00:00, 68.83it/s]"
      }
     },
     "d422e44636544b76886f8a709d552485": {
      "model_module": "@jupyter-widgets/base",
      "model_module_version": "1.2.0",
      "model_name": "LayoutModel",
      "state": {
       "display": "inline-flex",
       "flex_flow": "row wrap",
       "width": "100%"
      }
     },
     "d668cb9eca9b4dc9b00558a12c188bee": {
      "model_module": "@jupyter-widgets/base",
      "model_module_version": "1.2.0",
      "model_name": "LayoutModel",
      "state": {}
     },
     "d673701832b844e8a505b0dbd8a39eec": {
      "model_module": "@jupyter-widgets/base",
      "model_module_version": "1.2.0",
      "model_name": "LayoutModel",
      "state": {}
     },
     "d76d7fbdaea843b69688b1530a9e43d8": {
      "model_module": "@jupyter-widgets/controls",
      "model_module_version": "1.5.0",
      "model_name": "FloatProgressModel",
      "state": {
       "bar_style": "success",
       "description": "100%",
       "layout": "IPY_MODEL_470233109a194dacad4ddc85e4473018",
       "max": 323,
       "style": "IPY_MODEL_2000c326ec67417da1dc78aa206dba07",
       "value": 323
      }
     },
     "dbcab575b2d145c8bd290dd9f619f1c2": {
      "model_module": "@jupyter-widgets/controls",
      "model_module_version": "1.5.0",
      "model_name": "HBoxModel",
      "state": {
       "children": [
        "IPY_MODEL_e0ff46eb101c409fa7440406e1c8ce31",
        "IPY_MODEL_6405863a4760430199ec142feb9153dd"
       ],
       "layout": "IPY_MODEL_884fdcc5ff9d4607a699fb10504fa857"
      }
     },
     "dc4872b7f122461c859ec4778c615d29": {
      "model_module": "@jupyter-widgets/controls",
      "model_module_version": "1.5.0",
      "model_name": "HTMLModel",
      "state": {
       "layout": "IPY_MODEL_a9ae3c6abf4748bb80be30ecc4c93024",
       "style": "IPY_MODEL_a9b4e52b3c8147ee91d27e3f36855b00",
       "value": " 642/642 [00:00&lt;00:00, 934B/s]"
      }
     },
     "de096468c304482cba06fb1dfb26d129": {
      "model_module": "@jupyter-widgets/controls",
      "model_module_version": "1.5.0",
      "model_name": "HBoxModel",
      "state": {
       "children": [
        "IPY_MODEL_2c5768486f814a568d282f48e96a4321",
        "IPY_MODEL_21c2c6236f494835ab619167d59e22a2"
       ],
       "layout": "IPY_MODEL_c72fde2bd8ef4436aea7048055ea93c7"
      }
     },
     "df1a08ba464543479eec850082c8c33f": {
      "model_module": "@jupyter-widgets/base",
      "model_module_version": "1.2.0",
      "model_name": "LayoutModel",
      "state": {}
     },
     "e0ff46eb101c409fa7440406e1c8ce31": {
      "model_module": "@jupyter-widgets/controls",
      "model_module_version": "1.5.0",
      "model_name": "FloatProgressModel",
      "state": {
       "bar_style": "info",
       "description": "Validation sanity check: 100%",
       "layout": "IPY_MODEL_3affb6b3a4d84f24a94842fc4778d096",
       "max": 150,
       "style": "IPY_MODEL_90f012b31cf44609a34d0882ea51df4c",
       "value": 150
      }
     },
     "e109a07974c2425f87167d0ddc64222e": {
      "model_module": "@jupyter-widgets/controls",
      "model_module_version": "1.5.0",
      "model_name": "HBoxModel",
      "state": {
       "children": [
        "IPY_MODEL_667f35b35aef46c1ae474dc8520cb140",
        "IPY_MODEL_645ae37e807e47838e29e8c184aa85da"
       ],
       "layout": "IPY_MODEL_231c3749fb5b447d98deb85f1d11d7de"
      }
     },
     "e57962207e4a4499b67a039cb9bdcdec": {
      "model_module": "@jupyter-widgets/base",
      "model_module_version": "1.2.0",
      "model_name": "LayoutModel",
      "state": {}
     },
     "e86b3a232539465eba585288ca961108": {
      "model_module": "@jupyter-widgets/base",
      "model_module_version": "1.2.0",
      "model_name": "LayoutModel",
      "state": {
       "flex": "2"
      }
     },
     "edf0c2b142af49078460e48e346be467": {
      "model_module": "@jupyter-widgets/base",
      "model_module_version": "1.2.0",
      "model_name": "LayoutModel",
      "state": {}
     },
     "edf7b3ae63bf4c7b93159ebe048aabe2": {
      "model_module": "@jupyter-widgets/base",
      "model_module_version": "1.2.0",
      "model_name": "LayoutModel",
      "state": {}
     },
     "f1932cdffa0040a6b4daec556325a24d": {
      "model_module": "@jupyter-widgets/controls",
      "model_module_version": "1.5.0",
      "model_name": "HBoxModel",
      "state": {
       "children": [
        "IPY_MODEL_bf89078441ca4889a0393b1f931f1957",
        "IPY_MODEL_2a2b7c27544e44a68e06649e4cfaa0eb"
       ],
       "layout": "IPY_MODEL_b7f70025aab34c5ebefcbdfe9de25a79"
      }
     },
     "f232a8b4e92d4cb19ea972668206518f": {
      "model_module": "@jupyter-widgets/controls",
      "model_module_version": "1.5.0",
      "model_name": "DescriptionStyleModel",
      "state": {
       "description_width": ""
      }
     },
     "f2f151b339a147488e4bd50f7300e533": {
      "model_module": "@jupyter-widgets/controls",
      "model_module_version": "1.5.0",
      "model_name": "HBoxModel",
      "state": {
       "children": [
        "IPY_MODEL_6e6bd055bccb4d1daca72ca0b9575610",
        "IPY_MODEL_40b822817226418dbdf3f63eca9b99af"
       ],
       "layout": "IPY_MODEL_b5f528e5b2694993b3465f8e5ef52c07"
      }
     },
     "fc8fc02cf5af44a08823372c68b75bd0": {
      "model_module": "@jupyter-widgets/controls",
      "model_module_version": "1.5.0",
      "model_name": "HBoxModel",
      "state": {
       "children": [
        "IPY_MODEL_d76d7fbdaea843b69688b1530a9e43d8",
        "IPY_MODEL_8a525a64baba468796e2be78c8c08d33"
       ],
       "layout": "IPY_MODEL_d668cb9eca9b4dc9b00558a12c188bee"
      }
     },
     "fdaa127edf0a4edf934a9c87220e322d": {
      "model_module": "@jupyter-widgets/base",
      "model_module_version": "1.2.0",
      "model_name": "LayoutModel",
      "state": {}
     }
    },
    "version_major": 2,
    "version_minor": 0
   }
  }
 },
 "nbformat": 4,
 "nbformat_minor": 5
}
